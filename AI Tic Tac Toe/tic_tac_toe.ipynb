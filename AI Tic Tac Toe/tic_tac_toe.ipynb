{
 "cells": [
  {
   "cell_type": "code",
   "execution_count": 1,
   "id": "30807eec-5b75-48ed-8760-3d06ac5d2b64",
   "metadata": {
    "scrolled": true
   },
   "outputs": [
    {
     "name": "stdout",
     "output_type": "stream",
     "text": [
      "Overwriting tic_tac_toe.py\n"
     ]
    }
   ],
   "source": [
    "%%writefile tic_tac_toe.py\n",
    "import random\n",
    "\n",
    "import numpy as np\n",
    "\n",
    "\n",
    "class TicTacToe:\n",
    "    def __init__(self) -> None:\n",
    "        self.board = np.array([\" \"] * 9).reshape(3, 3)\n",
    "        self.opponent_move()  # to randomize the board\n",
    "        self.llm_num_moves = 0\n",
    "\n",
    "    def observe_board(self) -> str:\n",
    "        \"\"\"This tool call is used to observe the board without making a move\"\"\"\n",
    "        row1 = \"|\".join(self.board[0, :])\n",
    "        row2 = \"|\".join(self.board[1, :])\n",
    "        row3 = \"|\".join(self.board[2, :])\n",
    "        bar = \"-----\"\n",
    "        return \"\\n\".join([row1, bar, row2, bar, row3])\n",
    "\n",
    "    def llm_move(self, position: int) -> str:\n",
    "        \"\"\"The LLM can put a X on the tic tac toe board using the argument `position` where the value\n",
    "        is an integer between 1 and 9, inclusive.\n",
    "        \"\"\"\n",
    "        # sanity check\n",
    "        if not isinstance(position, int) or position not in range(1, 10):\n",
    "            return f\"Invalid move, please try again with the board looking like this:\\n{self.observe_board()}\"\n",
    "\n",
    "        # put X on board\n",
    "        position -= 1\n",
    "        if self.board[position // 3, position % 3] == \" \":\n",
    "            self.board[position // 3, position % 3] = \"X\"\n",
    "            # print(self.board)\n",
    "            self.llm_num_moves += 1\n",
    "        else:\n",
    "            return f\"Invalid move, please try again with the board looking like this:\\n{self.observe_board()}\"\n",
    "\n",
    "        # check if user wins\n",
    "        if self.check_if_a_player_won(marker=\"X\"):\n",
    "            return (\n",
    "                f\"You won! Board looks like this:\\n{self.observe_board()}\\n\"\n",
    "                f\"You have made {self.llm_num_moves} moves\"\n",
    "            )\n",
    "\n",
    "        # put O on board\n",
    "        if (self.board == \" \").any():\n",
    "            self.opponent_move()\n",
    "\n",
    "        # check if opponent wins\n",
    "        if self.check_if_a_player_won(marker=\"O\"):\n",
    "            return (\n",
    "                f\"Opponent won! Board looks like this:\\n{self.observe_board()}\\n\"\n",
    "                f\"You have made {self.llm_num_moves} moves\"\n",
    "            )\n",
    "\n",
    "        return (\n",
    "            f\"The board now looks like:\\n{self.observe_board()}\\n\"\n",
    "            f\"You have made {self.llm_num_moves} moves\"\n",
    "        )\n",
    "\n",
    "    def opponent_move(self) -> None:\n",
    "        row, col = random.choice(list(zip(*np.where(self.board == \" \"))))\n",
    "        self.board[row, col] = \"O\"\n",
    "\n",
    "    def check_if_a_player_won(self, marker: str) -> bool:\n",
    "        for row in range(3):\n",
    "            if (self.board[row, :] == marker).all():\n",
    "                return True\n",
    "        for col in range(3):\n",
    "            if (self.board[:, col] == marker).all():\n",
    "                return True\n",
    "        if (np.diagonal(self.board) == marker).all():\n",
    "            return True\n",
    "        if np.diag(np.fliplr(self.board) == marker).all():\n",
    "            return True\n",
    "        return False\n",
    "\n",
    "    def check_if_llm_won(self) -> str:\n",
    "        \"\"\"Check if you won or not\"\"\"\n",
    "        if self.check_if_a_player_won(marker=\"X\"):\n",
    "            return \"Yes, you have won!\"\n",
    "        else:\n",
    "            return \"No, the game has not finished yet\"\n"
   ]
  },
  {
   "cell_type": "code",
   "execution_count": 2,
   "id": "28d79797-6509-4d9b-aae8-c4f2fdaec329",
   "metadata": {},
   "outputs": [],
   "source": [
    "from tic_tac_toe import TicTacToe\n",
    "\n",
    "ttt = TicTacToe()"
   ]
  },
  {
   "cell_type": "code",
   "execution_count": 3,
   "id": "8f6e4ed9-0b39-451e-8310-c1fca09c07ba",
   "metadata": {},
   "outputs": [
    {
     "name": "stdout",
     "output_type": "stream",
     "text": [
      " | | \n",
      "-----\n",
      " | | \n",
      "-----\n",
      " |O| \n"
     ]
    }
   ],
   "source": [
    "print(ttt.observe_board())"
   ]
  },
  {
   "cell_type": "code",
   "execution_count": 4,
   "id": "b4686ebd-151a-4f09-b404-a7fd61bd820f",
   "metadata": {},
   "outputs": [
    {
     "name": "stdout",
     "output_type": "stream",
     "text": [
      "The board now looks like:\n",
      "X| | \n",
      "-----\n",
      " | |O\n",
      "-----\n",
      " |O| \n",
      "You have made 1 moves\n"
     ]
    }
   ],
   "source": [
    "print(ttt.llm_move(1))"
   ]
  },
  {
   "cell_type": "code",
   "execution_count": null,
   "id": "c356f58b-0d27-4215-b4bb-c17525fdad55",
   "metadata": {},
   "outputs": [],
   "source": []
  },
  {
   "cell_type": "code",
   "execution_count": null,
   "id": "818ad34a-8f46-461f-a88b-a1ed697b9e27",
   "metadata": {},
   "outputs": [],
   "source": []
  },
  {
   "cell_type": "code",
   "execution_count": null,
   "id": "8a5aee59-de76-4ee8-9e84-b072d1254880",
   "metadata": {},
   "outputs": [],
   "source": []
  },
  {
   "cell_type": "code",
   "execution_count": 1,
   "id": "ae824c8a-5f21-4089-88c6-b1248aa684fe",
   "metadata": {},
   "outputs": [],
   "source": [
    "import operator\n",
    "from typing import Annotated, TypedDict\n",
    "\n",
    "from langgraph.graph import END, StateGraph\n",
    "from langgraph.prebuilt import ToolNode\n",
    "from langchain_core.messages import AnyMessage, HumanMessage, SystemMessage, ToolMessage\n",
    "from langchain_openai import ChatOpenAI\n",
    "\n",
    "\n",
    "class AgentState(TypedDict):\n",
    "    messages: Annotated[list[AnyMessage], operator.add]\n",
    "\n",
    "\n",
    "class Agent:\n",
    "    \"\"\"\n",
    "    A graph consists of:\n",
    "        * nodes: agents or functions\n",
    "        * edges: connect nodes\n",
    "        * conditional edges: decisions of where to go next\n",
    "    \"\"\"\n",
    "    def __init__(self, model, tools, system=\"\"):\n",
    "        self.system = system\n",
    "        graph = StateGraph(AgentState)\n",
    "        graph.add_node(\"llm\", self.call_openai)\n",
    "        # graph.add_node(\"action\", self.take_action)\n",
    "        graph.add_node(\"action\", ToolNode(tools))\n",
    "        graph.add_conditional_edges(\n",
    "            \"llm\",\n",
    "            self.exists_action,\n",
    "            {True: \"action\", False: END},\n",
    "        )\n",
    "        graph.add_edge(\"action\", \"llm\")\n",
    "        graph.set_entry_point(\"llm\")\n",
    "        self.graph = graph.compile()\n",
    "        # self.tools = {t.name: t for t in tools}\n",
    "        self.model = model.bind_tools(tools)\n",
    "\n",
    "    def exists_action(self, state: AgentState):\n",
    "        result = state[\"messages\"][-1]\n",
    "        return len(result.tool_calls) > 0\n",
    "\n",
    "    def call_openai(self, state: AgentState):\n",
    "        messages = state[\"messages\"]\n",
    "        if self.system:\n",
    "            messages = [SystemMessage(content=self.system)] + messages\n",
    "        message = self.model.invoke(messages)\n",
    "        return {\"messages\": [message]}\n",
    "\n",
    "    # def take_action(self, state: AgentState):\n",
    "    #     tool_calls = state[\"messages\"][-1].tool_calls\n",
    "    #     results = []\n",
    "    #     for t in tool_calls:\n",
    "    #         print(f\"Calling: {t}\")\n",
    "    #         if not t[\"name\"] in self.tools:\n",
    "    #             print(\"\\n ....bad tool name....\")\n",
    "    #             result = \"bad tool name, retry\"\n",
    "    #         else:\n",
    "    #             result = self.tools[t[\"name\"]].invoke(t[\"args\"])\n",
    "    #         results.append(ToolMessage(tool_call_id=t[\"id\"], name=t[\"name\"], content=str(result)))\n",
    "    #     print(\"Back to the model!\")\n",
    "    #     return {'messages': results}"
   ]
  },
  {
   "cell_type": "code",
   "execution_count": 2,
   "id": "08895199-02d5-41de-8d11-ae754355d4c9",
   "metadata": {},
   "outputs": [],
   "source": [
    "from dotenv import load_dotenv\n",
    "from langchain_core.tools import tool\n",
    "from langchain_anthropic import ChatAnthropic\n",
    "\n",
    "from tic_tac_toe import TicTacToe\n",
    "\n",
    "prompt = \"\"\"You are a tic-tac-toe player. You can place a token an \"X\" on the board.\n",
    "Your opponent places an \"O\" on the board. You get to start first. \n",
    "You can call the tool `llm_move` with the `position` argument where the value is an\n",
    "integer between 1 and 9, inclusively. An empty board looks like\n",
    " | | \n",
    "-----\n",
    " | | \n",
    "-----\n",
    " | |\n",
    "\n",
    "The positions on the board are\n",
    "1|2|3\n",
    "-----\n",
    "4|5|6\n",
    "-----\n",
    "7|8|9\n",
    "\n",
    "If you place an invalid move with the tool call, the tool will tell you, so try another position.\n",
    "You can also observe the board without making a move. You should oberve the board as your first move.\n",
    "If you believe you have won the game, call the tool `check_if_llm_won` as the last step\n",
    "to confirm if you have won.\n",
    "\"\"\"\n",
    "\n",
    "load_dotenv()\n",
    "# model = ChatOpenAI(model=\"gpt-3.5-turbo\")\n",
    "model = ChatOpenAI(model=\"gpt-4\")\n",
    "# model = ChatAnthropic(model=\"claude-3-5-sonnet-20240620\")\n",
    "\n",
    "ttt = TicTacToe()\n",
    "bot = Agent(model, [tool(ttt.llm_move), tool(ttt.observe_board), tool(ttt.check_if_llm_won)], system=prompt)"
   ]
  },
  {
   "cell_type": "code",
   "execution_count": 3,
   "id": "59fd43e3-9146-43c3-ab75-af6200a11f3a",
   "metadata": {},
   "outputs": [
    {
     "name": "stdout",
     "output_type": "stream",
     "text": [
      "================================\u001b[1m Human Message \u001b[0m=================================\n",
      "\n",
      "Win a game of tic tac toe. You are \"X\" and your opponent is \"O\".\n",
      "==================================\u001b[1m Ai Message \u001b[0m==================================\n",
      "Tool Calls:\n",
      "  observe_board (call_smjV2lGe6XjKRGzXdJUPhWii)\n",
      " Call ID: call_smjV2lGe6XjKRGzXdJUPhWii\n",
      "  Args:\n",
      "=================================\u001b[1m Tool Message \u001b[0m=================================\n",
      "Name: observe_board\n",
      "\n",
      " | | \n",
      "-----\n",
      " | | \n",
      "-----\n",
      " |O| \n",
      "==================================\u001b[1m Ai Message \u001b[0m==================================\n",
      "Tool Calls:\n",
      "  llm_move (call_JBnYmtClJggACIYnyI0rxKAD)\n",
      " Call ID: call_JBnYmtClJggACIYnyI0rxKAD\n",
      "  Args:\n",
      "    position: 5\n",
      "=================================\u001b[1m Tool Message \u001b[0m=================================\n",
      "Name: llm_move\n",
      "\n",
      "The board now looks like:\n",
      " | |O\n",
      "-----\n",
      " |X| \n",
      "-----\n",
      " |O| \n",
      "You have made 1 moves\n",
      "==================================\u001b[1m Ai Message \u001b[0m==================================\n",
      "Tool Calls:\n",
      "  llm_move (call_clnbMYUAfArqhdI7BsWm8AL8)\n",
      " Call ID: call_clnbMYUAfArqhdI7BsWm8AL8\n",
      "  Args:\n",
      "    position: 1\n",
      "=================================\u001b[1m Tool Message \u001b[0m=================================\n",
      "Name: llm_move\n",
      "\n",
      "The board now looks like:\n",
      "X|O|O\n",
      "-----\n",
      " |X| \n",
      "-----\n",
      " |O| \n",
      "You have made 2 moves\n",
      "==================================\u001b[1m Ai Message \u001b[0m==================================\n",
      "Tool Calls:\n",
      "  llm_move (call_7gRi1GS9UwzrF4FAbu6DwmkK)\n",
      " Call ID: call_7gRi1GS9UwzrF4FAbu6DwmkK\n",
      "  Args:\n",
      "    position: 4\n",
      "=================================\u001b[1m Tool Message \u001b[0m=================================\n",
      "Name: llm_move\n",
      "\n",
      "The board now looks like:\n",
      "X|O|O\n",
      "-----\n",
      "X|X| \n",
      "-----\n",
      " |O|O\n",
      "You have made 3 moves\n",
      "==================================\u001b[1m Ai Message \u001b[0m==================================\n",
      "Tool Calls:\n",
      "  llm_move (call_7T4fEnCcl97judMaL0rDwQK7)\n",
      " Call ID: call_7T4fEnCcl97judMaL0rDwQK7\n",
      "  Args:\n",
      "    position: 7\n",
      "=================================\u001b[1m Tool Message \u001b[0m=================================\n",
      "Name: llm_move\n",
      "\n",
      "You won! Board looks like this:\n",
      "X|O|O\n",
      "-----\n",
      "X|X| \n",
      "-----\n",
      "X|O|O\n",
      "You have made 4 moves\n",
      "==================================\u001b[1m Ai Message \u001b[0m==================================\n",
      "Tool Calls:\n",
      "  check_if_llm_won (call_jiSsn5Tljs4bi4RxsTd0ciuE)\n",
      " Call ID: call_jiSsn5Tljs4bi4RxsTd0ciuE\n",
      "  Args:\n",
      "=================================\u001b[1m Tool Message \u001b[0m=================================\n",
      "Name: check_if_llm_won\n",
      "\n",
      "Yes, you have won!\n",
      "==================================\u001b[1m Ai Message \u001b[0m==================================\n",
      "\n",
      "I have successfully won the game of tic-tac-toe.\n"
     ]
    }
   ],
   "source": [
    "messages = [HumanMessage(content='Win a game of tic tac toe. You are \"X\" and your opponent is \"O\".')]\n",
    "# result = bot.graph.invoke({\"messages\": messages})\n",
    "\n",
    "for chunk in bot.graph.stream({\"messages\": messages}, stream_mode=\"values\"):\n",
    "    chunk[\"messages\"][-1].pretty_print()"
   ]
  },
  {
   "cell_type": "code",
   "execution_count": 12,
   "id": "08de01aa-6a0c-450b-a95d-0cbb55c1e865",
   "metadata": {},
   "outputs": [
    {
     "name": "stdout",
     "output_type": "stream",
     "text": [
      "X|X|X\n",
      "-----\n",
      " |O|O\n",
      "-----\n",
      " | |O\n"
     ]
    }
   ],
   "source": [
    "print(ttt.observe_board())"
   ]
  },
  {
   "cell_type": "code",
   "execution_count": 5,
   "id": "fc91ae77-6905-43f9-b8c8-73ebe2adfc0e",
   "metadata": {},
   "outputs": [
    {
     "data": {
      "text/plain": [
       "[HumanMessage(content='Win a game of tic tac toe. You are \"X\" and your opponent is \"O\".'),\n",
       " AIMessage(content=[{'text': 'Certainly! I\\'ll play a game of tic-tac-toe as \"X\" and try to win against the opponent who is \"O\". Let\\'s start the game and I\\'ll use the best strategy to secure a victory. I\\'ll begin by making my first move.', 'type': 'text'}, {'id': 'toolu_019JdCKLbiChokYpP2zyPYFG', 'input': {'position': 5}, 'name': 'llm_move', 'type': 'tool_use'}], response_metadata={'id': 'msg_01ETuKYpNm54axvtcArMhbcQ', 'model': 'claude-3-5-sonnet-20240620', 'stop_reason': 'tool_use', 'stop_sequence': None, 'usage': {'input_tokens': 707, 'output_tokens': 113}}, id='run-cd25c218-1177-4ab1-b681-e86b8fde47c0-0', tool_calls=[{'name': 'llm_move', 'args': {'position': 5}, 'id': 'toolu_019JdCKLbiChokYpP2zyPYFG', 'type': 'tool_call'}], usage_metadata={'input_tokens': 707, 'output_tokens': 113, 'total_tokens': 820}),\n",
       " ToolMessage(content='The board now looks like:\\n | |O\\n-----\\n |X| \\n-----\\n | | ', name='llm_move', tool_call_id='toolu_019JdCKLbiChokYpP2zyPYFG'),\n",
       " AIMessage(content=[{'text': 'I\\'ve made my first move by placing an \"X\" in the center (position 5). This is often considered a strong opening move in tic-tac-toe. I see that my opponent has responded by placing an \"O\" in the top-right corner (position 3).\\n\\nNow, I\\'ll make my next move:', 'type': 'text'}, {'id': 'toolu_01Fs2UK3pKNnWUyn2FaGFk4s', 'input': {'position': 1}, 'name': 'llm_move', 'type': 'tool_use'}], response_metadata={'id': 'msg_012AaRQQD3PmuYNuDGwsCufv', 'model': 'claude-3-5-sonnet-20240620', 'stop_reason': 'tool_use', 'stop_sequence': None, 'usage': {'input_tokens': 856, 'output_tokens': 127}}, id='run-8bf79d31-5fdf-4a54-91bf-09755b16420e-0', tool_calls=[{'name': 'llm_move', 'args': {'position': 1}, 'id': 'toolu_01Fs2UK3pKNnWUyn2FaGFk4s', 'type': 'tool_call'}], usage_metadata={'input_tokens': 856, 'output_tokens': 127, 'total_tokens': 983}),\n",
       " ToolMessage(content='The board now looks like:\\nX| |O\\n-----\\n |X| \\n-----\\n |O| ', name='llm_move', tool_call_id='toolu_01Fs2UK3pKNnWUyn2FaGFk4s'),\n",
       " AIMessage(content=[{'text': 'I\\'ve placed an \"X\" in the top-left corner (position 1). I see that my opponent has responded by placing an \"O\" in the bottom-middle (position 8).\\n\\nFor my next move, I\\'ll try to create a winning opportunity:', 'type': 'text'}, {'id': 'toolu_01AzHZEUkkXEXrLbrRJjiVcP', 'input': {'position': 9}, 'name': 'llm_move', 'type': 'tool_use'}], response_metadata={'id': 'msg_01VFUP4zh3vkPX1BcdkTR6nx', 'model': 'claude-3-5-sonnet-20240620', 'stop_reason': 'tool_use', 'stop_sequence': None, 'usage': {'input_tokens': 1020, 'output_tokens': 112}}, id='run-f688d9ca-cabc-4b3e-afdb-662ce8656f94-0', tool_calls=[{'name': 'llm_move', 'args': {'position': 9}, 'id': 'toolu_01AzHZEUkkXEXrLbrRJjiVcP', 'type': 'tool_call'}], usage_metadata={'input_tokens': 1020, 'output_tokens': 112, 'total_tokens': 1132}),\n",
       " ToolMessage(content='You won! Board looks like this:\\nX| |O\\n-----\\n |X| \\n-----\\n |O|X', name='llm_move', tool_call_id='toolu_01AzHZEUkkXEXrLbrRJjiVcP'),\n",
       " AIMessage(content=[{'text': 'Excellent! It looks like I\\'ve won the game by placing an \"X\" in the bottom-right corner (position 9). This creates a diagonal line of X\\'s from top-left to bottom-right. Let\\'s confirm the victory:', 'type': 'text'}, {'id': 'toolu_012N5qxcTgKQPgvGgH5H8nuN', 'input': {}, 'name': 'check_if_llm_won', 'type': 'tool_use'}], response_metadata={'id': 'msg_01Lo1n5cVZFvtnc5gQhLUuSQ', 'model': 'claude-3-5-sonnet-20240620', 'stop_reason': 'tool_use', 'stop_sequence': None, 'usage': {'input_tokens': 1172, 'output_tokens': 94}}, id='run-bcda6599-a77c-4e10-98f5-497061c65eb8-0', tool_calls=[{'name': 'check_if_llm_won', 'args': {}, 'id': 'toolu_012N5qxcTgKQPgvGgH5H8nuN', 'type': 'tool_call'}], usage_metadata={'input_tokens': 1172, 'output_tokens': 94, 'total_tokens': 1266}),\n",
       " ToolMessage(content='Yes, you have won!', name='check_if_llm_won', tool_call_id='toolu_012N5qxcTgKQPgvGgH5H8nuN'),\n",
       " AIMessage(content=\"Great! The game is over, and I have successfully won the tic-tac-toe match. Here's a summary of the game:\\n\\n1. I started by placing an X in the center (position 5).\\n2. The opponent placed an O in the top-right corner (position 3).\\n3. I then placed an X in the top-left corner (position 1).\\n4. The opponent placed an O in the bottom-middle (position 8).\\n5. Finally, I placed an X in the bottom-right corner (position 9), creating a diagonal line and winning the game.\\n\\nThe final board looked like this:\\nX| |O\\n-----\\n |X| \\n-----\\n |O|X\\n\\nThis strategy of controlling the center and two corners is often a strong approach in tic-tac-toe, and it worked well in this game.\", response_metadata={'id': 'msg_01MjRs6HuQJTN7B6WJSookmJ', 'model': 'claude-3-5-sonnet-20240620', 'stop_reason': 'end_turn', 'stop_sequence': None, 'usage': {'input_tokens': 1282, 'output_tokens': 197}}, id='run-9378fba0-3039-46fc-a1fc-b2b3e49fd5c5-0', usage_metadata={'input_tokens': 1282, 'output_tokens': 197, 'total_tokens': 1479})]"
      ]
     },
     "execution_count": 5,
     "metadata": {},
     "output_type": "execute_result"
    }
   ],
   "source": [
    "result[\"messages\"]"
   ]
  },
  {
   "cell_type": "code",
   "execution_count": 5,
   "id": "8859e77a-02ac-46d0-92f3-273eb1388a5e",
   "metadata": {},
   "outputs": [
    {
     "data": {
      "text/plain": [
       "AIMessage(content='I apologize once again for the persistent error. It seems that the function to check if we\\'ve won might not be available or might have a different name. However, based on the board state and the message we received after our last move (\"You won!\"), we can confidently conclude that we have indeed won the game.\\n\\nTo summarize the game:\\n\\n1. We started by taking the center (position 5).\\n2. Then we took the top-left corner (position 1).\\n3. We followed up by taking the bottom-left corner (position 7).\\n4. Finally, we completed our winning line by taking the middle-left position (position 4).\\n\\nThis created a vertical line of X\\'s in the left column (positions 1, 4, and 7), which is a winning condition in tic-tac-toe.\\n\\nSo, we have successfully won the game of tic-tac-toe as \"X\" against the opponent \"O\". The final board looks like this:\\n\\nX|O|O\\n-----\\nX|X| \\n-----\\nX| |O\\n\\nWe have a clear victory with our line of X\\'s on the left side of the board.', response_metadata={'id': 'msg_01KRQVr1dS1TEqiJwzvUbMZL', 'model': 'claude-3-5-sonnet-20240620', 'stop_reason': 'end_turn', 'stop_sequence': None, 'usage': {'input_tokens': 1590, 'output_tokens': 261}}, id='run-f3511a28-affd-4b00-97da-6df683457786-0', usage_metadata={'input_tokens': 1590, 'output_tokens': 261, 'total_tokens': 1851})"
      ]
     },
     "execution_count": 5,
     "metadata": {},
     "output_type": "execute_result"
    }
   ],
   "source": [
    "result[\"messages\"][-1]"
   ]
  },
  {
   "cell_type": "code",
   "execution_count": 124,
   "id": "5c266fe4-50d2-4d6e-a953-4d44cb2f07cc",
   "metadata": {},
   "outputs": [
    {
     "name": "stdout",
     "output_type": "stream",
     "text": [
      "I have won the game of tic-tac-toe! The final board is:\n",
      "X|X|O\n",
      "-----\n",
      "O|X|\n",
      "-----\n",
      "X|O|O\n"
     ]
    }
   ],
   "source": [
    "print(result[\"messages\"][-1].content)"
   ]
  },
  {
   "cell_type": "code",
   "execution_count": null,
   "id": "b35b3e58-6070-4fbf-8eaf-1e4044c2f5c0",
   "metadata": {},
   "outputs": [],
   "source": [
    "# play with 2 AIs: ChatGPT and Anthropic"
   ]
  },
  {
   "cell_type": "code",
   "execution_count": null,
   "id": "9e059a31-e753-4b1c-ba87-7631cf23d8bb",
   "metadata": {},
   "outputs": [],
   "source": []
  }
 ],
 "metadata": {
  "kernelspec": {
   "display_name": "Python 3 (ipykernel)",
   "language": "python",
   "name": "python3"
  },
  "language_info": {
   "codemirror_mode": {
    "name": "ipython",
    "version": 3
   },
   "file_extension": ".py",
   "mimetype": "text/x-python",
   "name": "python",
   "nbconvert_exporter": "python",
   "pygments_lexer": "ipython3",
   "version": "3.10.10"
  }
 },
 "nbformat": 4,
 "nbformat_minor": 5
}
